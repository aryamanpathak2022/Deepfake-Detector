{
  "nbformat": 4,
  "nbformat_minor": 0,
  "metadata": {
    "colab": {
      "provenance": []
    },
    "kernelspec": {
      "name": "python3",
      "display_name": "Python 3"
    },
    "language_info": {
      "name": "python"
    }
  },
  "cells": [
    {
      "cell_type": "code",
      "source": [],
      "metadata": {
        "id": "t1SWoR5GR04A"
      },
      "execution_count": null,
      "outputs": []
    },
    {
      "cell_type": "code",
      "execution_count": 3,
      "metadata": {
        "colab": {
          "base_uri": "https://localhost:8080/"
        },
        "id": "L5Yai9O-QQDb",
        "outputId": "6e868202-06ff-43e3-9bf9-9fed8ad6abb1"
      },
      "outputs": [
        {
          "output_type": "stream",
          "name": "stdout",
          "text": [
            "{'mobilenet': [{'description': 'lab_coat', 'label': 'n03630383', 'score': 0.11916094273328781}, {'description': 'jersey', 'label': 'n03595614', 'score': 0.08206343650817871}, {'description': 'Band_Aid', 'label': 'n02786058', 'score': 0.06530100107192993}], 'resnet50': [{'description': 'jersey', 'label': 'n03595614', 'score': 0.15254461765289307}, {'description': 'drumstick', 'label': 'n03250847', 'score': 0.058199621737003326}, {'description': 'plunger', 'label': 'n03970156', 'score': 0.03531593456864357}], 'vgg16': [{'description': 'jersey', 'label': 'n03595614', 'score': 0.5373091697692871}, {'description': 'cardigan', 'label': 'n02963159', 'score': 0.047220952808856964}, {'description': 'chain_mail', 'label': 'n03000247', 'score': 0.034527260810136795}]}\n",
            "\n",
            "Predictions from mobilenet:\n",
            "Label: n03630383, Description: lab_coat, Score: 0.11916094273328781\n",
            "Label: n03595614, Description: jersey, Score: 0.08206343650817871\n",
            "Label: n02786058, Description: Band_Aid, Score: 0.06530100107192993\n",
            "\n",
            "Predictions from resnet50:\n",
            "Label: n03595614, Description: jersey, Score: 0.15254461765289307\n",
            "Label: n03250847, Description: drumstick, Score: 0.058199621737003326\n",
            "Label: n03970156, Description: plunger, Score: 0.03531593456864357\n",
            "\n",
            "Predictions from vgg16:\n",
            "Label: n03595614, Description: jersey, Score: 0.5373091697692871\n",
            "Label: n02963159, Description: cardigan, Score: 0.047220952808856964\n",
            "Label: n03000247, Description: chain_mail, Score: 0.034527260810136795\n"
          ]
        }
      ],
      "source": [
        "import requests\n",
        "\n",
        "url = 'https://5543-34-16-77-81.ngrok-free.app/predict'\n",
        "image_path = \"/content/deep_fake_image.jpeg\"\n",
        "\n",
        "with open(image_path, 'rb') as img:\n",
        "    files = {'image': img}\n",
        "    response = requests.post(url, files=files)\n",
        "\n",
        "data = response.json()\n",
        "\n",
        "print(data)\n",
        "\n",
        "for model_name, predictions in data.items():\n",
        "    print(f\"\\nPredictions from {model_name}:\")\n",
        "    for prediction in predictions:\n",
        "        print(f\"Label: {prediction['label']}, Description: {prediction['description']}, Score: {prediction['score']}\")\n"
      ]
    },
    {
      "cell_type": "code",
      "source": [],
      "metadata": {
        "id": "AqqmNLrYRCKz"
      },
      "execution_count": null,
      "outputs": []
    }
  ]
}